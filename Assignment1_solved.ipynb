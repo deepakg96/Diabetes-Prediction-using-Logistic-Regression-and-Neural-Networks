{
  "nbformat": 4,
  "nbformat_minor": 0,
  "metadata": {
    "accelerator": "GPU",
    "colab": {
      "name": "Assignment1_solved.ipynb",
      "provenance": [],
      "collapsed_sections": []
    },
    "kernelspec": {
      "display_name": "Python 3",
      "name": "python3"
    },
    "language_info": {
      "name": "python"
    }
  },
  "cells": [
    {
      "cell_type": "code",
      "metadata": {
        "id": "MrKcdZ2JDLlv"
      },
      "source": [
        "import numpy as np\n",
        "import pandas as pd\n",
        "import matplotlib.pyplot as plt\n",
        "import seaborn as sns\n",
        "from sklearn.model_selection import train_test_split\n",
        "from sklearn.preprocessing import scale\n"
      ],
      "execution_count": 1,
      "outputs": []
    },
    {
      "cell_type": "code",
      "metadata": {
        "colab": {
          "base_uri": "https://localhost:8080/"
        },
        "id": "C8FTqSF1HtH3",
        "outputId": "cce74b5a-9ea7-4687-f480-2c15843ee1e4"
      },
      "source": [
        "from google.colab import drive\n",
        "drive.mount('/content/drive')"
      ],
      "execution_count": 2,
      "outputs": [
        {
          "output_type": "stream",
          "name": "stdout",
          "text": [
            "Mounted at /content/drive\n"
          ]
        }
      ]
    },
    {
      "cell_type": "markdown",
      "metadata": {
        "id": "n-5keQFGHjal"
      },
      "source": [
        "# Loading CSV Data"
      ]
    },
    {
      "cell_type": "code",
      "metadata": {
        "colab": {
          "base_uri": "https://localhost:8080/"
        },
        "id": "p2keOo3zEGJn",
        "outputId": "e94e2b81-2950-4ad6-a59e-a81de1718ee6"
      },
      "source": [
        "#Pick the csv file from google drive.\n",
        "dataset = pd.read_csv('/content/drive/MyDrive/ml-project-ub/diabetes.csv')\n",
        "dataset.shape"
      ],
      "execution_count": 3,
      "outputs": [
        {
          "output_type": "execute_result",
          "data": {
            "text/plain": [
              "(768, 9)"
            ]
          },
          "metadata": {},
          "execution_count": 3
        }
      ]
    },
    {
      "cell_type": "code",
      "metadata": {
        "colab": {
          "base_uri": "https://localhost:8080/",
          "height": 206
        },
        "id": "wrccLNFDGagB",
        "outputId": "22808477-98c8-46a8-9eb0-2203cb4ae37c"
      },
      "source": [
        "#Some useful information about the dataset\n",
        "dataset.head()"
      ],
      "execution_count": 4,
      "outputs": [
        {
          "output_type": "execute_result",
          "data": {
            "text/html": [
              "<div>\n",
              "<style scoped>\n",
              "    .dataframe tbody tr th:only-of-type {\n",
              "        vertical-align: middle;\n",
              "    }\n",
              "\n",
              "    .dataframe tbody tr th {\n",
              "        vertical-align: top;\n",
              "    }\n",
              "\n",
              "    .dataframe thead th {\n",
              "        text-align: right;\n",
              "    }\n",
              "</style>\n",
              "<table border=\"1\" class=\"dataframe\">\n",
              "  <thead>\n",
              "    <tr style=\"text-align: right;\">\n",
              "      <th></th>\n",
              "      <th>Pregnancies</th>\n",
              "      <th>Glucose</th>\n",
              "      <th>BloodPressure</th>\n",
              "      <th>SkinThickness</th>\n",
              "      <th>Insulin</th>\n",
              "      <th>BMI</th>\n",
              "      <th>DiabetesPedigreeFunction</th>\n",
              "      <th>Age</th>\n",
              "      <th>Outcome</th>\n",
              "    </tr>\n",
              "  </thead>\n",
              "  <tbody>\n",
              "    <tr>\n",
              "      <th>0</th>\n",
              "      <td>6</td>\n",
              "      <td>148</td>\n",
              "      <td>72</td>\n",
              "      <td>35</td>\n",
              "      <td>0</td>\n",
              "      <td>33.6</td>\n",
              "      <td>0.627</td>\n",
              "      <td>50</td>\n",
              "      <td>1</td>\n",
              "    </tr>\n",
              "    <tr>\n",
              "      <th>1</th>\n",
              "      <td>1</td>\n",
              "      <td>85</td>\n",
              "      <td>66</td>\n",
              "      <td>29</td>\n",
              "      <td>0</td>\n",
              "      <td>26.6</td>\n",
              "      <td>0.351</td>\n",
              "      <td>31</td>\n",
              "      <td>0</td>\n",
              "    </tr>\n",
              "    <tr>\n",
              "      <th>2</th>\n",
              "      <td>8</td>\n",
              "      <td>183</td>\n",
              "      <td>64</td>\n",
              "      <td>0</td>\n",
              "      <td>0</td>\n",
              "      <td>23.3</td>\n",
              "      <td>0.672</td>\n",
              "      <td>32</td>\n",
              "      <td>1</td>\n",
              "    </tr>\n",
              "    <tr>\n",
              "      <th>3</th>\n",
              "      <td>1</td>\n",
              "      <td>89</td>\n",
              "      <td>66</td>\n",
              "      <td>23</td>\n",
              "      <td>94</td>\n",
              "      <td>28.1</td>\n",
              "      <td>0.167</td>\n",
              "      <td>21</td>\n",
              "      <td>0</td>\n",
              "    </tr>\n",
              "    <tr>\n",
              "      <th>4</th>\n",
              "      <td>0</td>\n",
              "      <td>137</td>\n",
              "      <td>40</td>\n",
              "      <td>35</td>\n",
              "      <td>168</td>\n",
              "      <td>43.1</td>\n",
              "      <td>2.288</td>\n",
              "      <td>33</td>\n",
              "      <td>1</td>\n",
              "    </tr>\n",
              "  </tbody>\n",
              "</table>\n",
              "</div>"
            ],
            "text/plain": [
              "   Pregnancies  Glucose  BloodPressure  ...  DiabetesPedigreeFunction  Age  Outcome\n",
              "0            6      148             72  ...                     0.627   50        1\n",
              "1            1       85             66  ...                     0.351   31        0\n",
              "2            8      183             64  ...                     0.672   32        1\n",
              "3            1       89             66  ...                     0.167   21        0\n",
              "4            0      137             40  ...                     2.288   33        1\n",
              "\n",
              "[5 rows x 9 columns]"
            ]
          },
          "metadata": {},
          "execution_count": 4
        }
      ]
    },
    {
      "cell_type": "code",
      "metadata": {
        "colab": {
          "base_uri": "https://localhost:8080/",
          "height": 320
        },
        "id": "2LcxbJgCGZ2j",
        "outputId": "4fa937ed-f409-477a-bfea-99d5ddd9560a"
      },
      "source": [
        "dataset.describe()"
      ],
      "execution_count": 5,
      "outputs": [
        {
          "output_type": "execute_result",
          "data": {
            "text/html": [
              "<div>\n",
              "<style scoped>\n",
              "    .dataframe tbody tr th:only-of-type {\n",
              "        vertical-align: middle;\n",
              "    }\n",
              "\n",
              "    .dataframe tbody tr th {\n",
              "        vertical-align: top;\n",
              "    }\n",
              "\n",
              "    .dataframe thead th {\n",
              "        text-align: right;\n",
              "    }\n",
              "</style>\n",
              "<table border=\"1\" class=\"dataframe\">\n",
              "  <thead>\n",
              "    <tr style=\"text-align: right;\">\n",
              "      <th></th>\n",
              "      <th>Pregnancies</th>\n",
              "      <th>Glucose</th>\n",
              "      <th>BloodPressure</th>\n",
              "      <th>SkinThickness</th>\n",
              "      <th>Insulin</th>\n",
              "      <th>BMI</th>\n",
              "      <th>DiabetesPedigreeFunction</th>\n",
              "      <th>Age</th>\n",
              "      <th>Outcome</th>\n",
              "    </tr>\n",
              "  </thead>\n",
              "  <tbody>\n",
              "    <tr>\n",
              "      <th>count</th>\n",
              "      <td>768.000000</td>\n",
              "      <td>768.000000</td>\n",
              "      <td>768.000000</td>\n",
              "      <td>768.000000</td>\n",
              "      <td>768.000000</td>\n",
              "      <td>768.000000</td>\n",
              "      <td>768.000000</td>\n",
              "      <td>768.000000</td>\n",
              "      <td>768.000000</td>\n",
              "    </tr>\n",
              "    <tr>\n",
              "      <th>mean</th>\n",
              "      <td>3.845052</td>\n",
              "      <td>120.894531</td>\n",
              "      <td>69.105469</td>\n",
              "      <td>20.536458</td>\n",
              "      <td>79.799479</td>\n",
              "      <td>31.992578</td>\n",
              "      <td>0.471876</td>\n",
              "      <td>33.240885</td>\n",
              "      <td>0.348958</td>\n",
              "    </tr>\n",
              "    <tr>\n",
              "      <th>std</th>\n",
              "      <td>3.369578</td>\n",
              "      <td>31.972618</td>\n",
              "      <td>19.355807</td>\n",
              "      <td>15.952218</td>\n",
              "      <td>115.244002</td>\n",
              "      <td>7.884160</td>\n",
              "      <td>0.331329</td>\n",
              "      <td>11.760232</td>\n",
              "      <td>0.476951</td>\n",
              "    </tr>\n",
              "    <tr>\n",
              "      <th>min</th>\n",
              "      <td>0.000000</td>\n",
              "      <td>0.000000</td>\n",
              "      <td>0.000000</td>\n",
              "      <td>0.000000</td>\n",
              "      <td>0.000000</td>\n",
              "      <td>0.000000</td>\n",
              "      <td>0.078000</td>\n",
              "      <td>21.000000</td>\n",
              "      <td>0.000000</td>\n",
              "    </tr>\n",
              "    <tr>\n",
              "      <th>25%</th>\n",
              "      <td>1.000000</td>\n",
              "      <td>99.000000</td>\n",
              "      <td>62.000000</td>\n",
              "      <td>0.000000</td>\n",
              "      <td>0.000000</td>\n",
              "      <td>27.300000</td>\n",
              "      <td>0.243750</td>\n",
              "      <td>24.000000</td>\n",
              "      <td>0.000000</td>\n",
              "    </tr>\n",
              "    <tr>\n",
              "      <th>50%</th>\n",
              "      <td>3.000000</td>\n",
              "      <td>117.000000</td>\n",
              "      <td>72.000000</td>\n",
              "      <td>23.000000</td>\n",
              "      <td>30.500000</td>\n",
              "      <td>32.000000</td>\n",
              "      <td>0.372500</td>\n",
              "      <td>29.000000</td>\n",
              "      <td>0.000000</td>\n",
              "    </tr>\n",
              "    <tr>\n",
              "      <th>75%</th>\n",
              "      <td>6.000000</td>\n",
              "      <td>140.250000</td>\n",
              "      <td>80.000000</td>\n",
              "      <td>32.000000</td>\n",
              "      <td>127.250000</td>\n",
              "      <td>36.600000</td>\n",
              "      <td>0.626250</td>\n",
              "      <td>41.000000</td>\n",
              "      <td>1.000000</td>\n",
              "    </tr>\n",
              "    <tr>\n",
              "      <th>max</th>\n",
              "      <td>17.000000</td>\n",
              "      <td>199.000000</td>\n",
              "      <td>122.000000</td>\n",
              "      <td>99.000000</td>\n",
              "      <td>846.000000</td>\n",
              "      <td>67.100000</td>\n",
              "      <td>2.420000</td>\n",
              "      <td>81.000000</td>\n",
              "      <td>1.000000</td>\n",
              "    </tr>\n",
              "  </tbody>\n",
              "</table>\n",
              "</div>"
            ],
            "text/plain": [
              "       Pregnancies     Glucose  ...         Age     Outcome\n",
              "count   768.000000  768.000000  ...  768.000000  768.000000\n",
              "mean      3.845052  120.894531  ...   33.240885    0.348958\n",
              "std       3.369578   31.972618  ...   11.760232    0.476951\n",
              "min       0.000000    0.000000  ...   21.000000    0.000000\n",
              "25%       1.000000   99.000000  ...   24.000000    0.000000\n",
              "50%       3.000000  117.000000  ...   29.000000    0.000000\n",
              "75%       6.000000  140.250000  ...   41.000000    1.000000\n",
              "max      17.000000  199.000000  ...   81.000000    1.000000\n",
              "\n",
              "[8 rows x 9 columns]"
            ]
          },
          "metadata": {},
          "execution_count": 5
        }
      ]
    },
    {
      "cell_type": "markdown",
      "metadata": {
        "id": "1bhb_OPMH_Us"
      },
      "source": [
        "# Supervised Learning: Linear Regression By Gradient Descent"
      ]
    },
    {
      "cell_type": "markdown",
      "metadata": {
        "id": "Z8mKrdubQkOL"
      },
      "source": [
        ""
      ]
    },
    {
      "cell_type": "code",
      "metadata": {
        "id": "6zz3HVyHIinA"
      },
      "source": [
        "# Correlation Matrix of dataset and plotting it for visual representation.\n",
        "correlation_matrix = dataset.corr()"
      ],
      "execution_count": 6,
      "outputs": []
    },
    {
      "cell_type": "code",
      "metadata": {
        "colab": {
          "base_uri": "https://localhost:8080/",
          "height": 444
        },
        "id": "iL_O1rWSRNRr",
        "outputId": "404ee1bb-ec92-4ac8-e94e-14db1cbfed66"
      },
      "source": [
        "plt.figure(figsize=(10, 5))\n",
        "sns.heatmap(data=correlation_matrix, annot=True)\n",
        "plt.show()"
      ],
      "execution_count": 7,
      "outputs": [
        {
          "output_type": "display_data",
          "data": {
            "image/png": "[encoded data removed]",
            "text/plain": [
              "<Figure size 720x360 with 2 Axes>"
            ]
          },
          "metadata": {
            "needs_background": "light"
          }
        }
      ]
    },
    {
      "cell_type": "code",
      "metadata": {
        "colab": {
          "base_uri": "https://localhost:8080/"
        },
        "id": "2HTeu_PtWOlD",
        "outputId": "c6c60ace-b123-4679-c08b-6cd93f912b15"
      },
      "source": [
        "features = np.asmatrix(dataset[['Pregnancies', 'Glucose', 'BloodPressure', 'SkinThickness', 'Insulin', 'BMI', 'DiabetesPedigreeFunction', 'Age']])\n",
        "features = scale(features)\n",
        "target = np.asmatrix(dataset[['Outcome']])\n",
        "\n",
        "print(\"Shape of feature matrix\",features.shape)\n",
        "print(\"Shape of Target matrix\",target.shape)"
      ],
      "execution_count": 8,
      "outputs": [
        {
          "output_type": "stream",
          "name": "stdout",
          "text": [
            "Shape of feature matrix (768, 8)\n",
            "Shape of Target matrix (768, 1)\n"
          ]
        },
        {
          "output_type": "stream",
          "name": "stderr",
          "text": [
            "/usr/local/lib/python3.7/dist-packages/sklearn/utils/validation.py:590: FutureWarning: np.matrix usage is deprecated in 1.0 and will raise a TypeError in 1.2. Please convert to a numpy array with np.asarray. For more information see: https://numpy.org/doc/stable/reference/generated/numpy.matrix.html\n",
            "  FutureWarning,\n"
          ]
        }
      ]
    },
    {
      "cell_type": "code",
      "metadata": {
        "id": "ovfWhPixZ-jz"
      },
      "source": [
        "# Spliting the dataset into train and test datasets. 80% of the dataset is used for training and 20% is used for testing. \n",
        "train_x, test_x, train_y, test_y = train_test_split(features,target, test_size=0.2,random_state=2)\n",
        "validation_x, test_x, validation_y, test_y = train_test_split(features,target, test_size=0.25)"
      ],
      "execution_count": 9,
      "outputs": []
    },
    {
      "cell_type": "code",
      "metadata": {
        "colab": {
          "base_uri": "https://localhost:8080/"
        },
        "id": "_HDO40RaWPf8",
        "outputId": "3a55cccb-c61c-44fd-ca7d-b6de1622241d"
      },
      "source": [
        "print('\\nNumber of data points in the training dataset:', len(train_x))\n",
        "print('\\nNumber of data points in the test dataset:', len(test_x))\n",
        "print('\\nShape of the training dataset:', train_x.shape)\n",
        "print('\\nShape of the test dataset:', test_x.shape)\n",
        "print('\\n Training dataset type:', type(train_x))\n",
        "print('\\n Test dataset type:', type(test_x))"
      ],
      "execution_count": 10,
      "outputs": [
        {
          "output_type": "stream",
          "name": "stdout",
          "text": [
            "\n",
            "Number of data points in the training dataset: 614\n",
            "\n",
            "Number of data points in the test dataset: 192\n",
            "\n",
            "Shape of the training dataset: (614, 8)\n",
            "\n",
            "Shape of the test dataset: (192, 8)\n",
            "\n",
            " Training dataset type: <class 'numpy.ndarray'>\n",
            "\n",
            " Test dataset type: <class 'numpy.ndarray'>\n"
          ]
        }
      ]
    },
    {
      "cell_type": "markdown",
      "metadata": {
        "id": "m96-f9r1gusL"
      },
      "source": [
        "In Logistic Regression we use the the following formula to predict y.\n",
        "\n",
        "Ypredicted=σ(Xw)=11+e−(Xw)\n",
        "\n",
        "▽J(w)=XT(Ypredicted−Y)\n",
        "\n",
        "So Using Gradient descent we are updating the weights by :\n",
        "\n",
        "w=w−α▽J(w)"
      ]
    },
    {
      "cell_type": "code",
      "metadata": {
        "id": "aFJm6D9Ogu6Q"
      },
      "source": [
        "#Weight matrix initialisation\n",
        "weights = np.asmatrix([0,0,0,0,0,0,0,0]).T\n",
        "#Epochs\n",
        "epochs = 10000\n",
        "#Learning rate\n",
        "alpha = 1e-8"
      ],
      "execution_count": 11,
      "outputs": []
    },
    {
      "cell_type": "code",
      "metadata": {
        "id": "ir82A8jYxQY5"
      },
      "source": [
        "for i in range(epochs):\n",
        "  gradient = np.dot(train_x.transpose(),  ( (1/(1+np.exp(-np.dot(train_x, weights)))) - train_y))\n",
        "  weights = weights - alpha * gradient"
      ],
      "execution_count": 12,
      "outputs": []
    },
    {
      "cell_type": "code",
      "metadata": {
        "id": "cThBdctSSO4d"
      },
      "source": [
        "#weights"
      ],
      "execution_count": 13,
      "outputs": []
    },
    {
      "cell_type": "code",
      "metadata": {
        "colab": {
          "base_uri": "https://localhost:8080/"
        },
        "id": "7RCFTjf26VYH",
        "outputId": "dfd875eb-152e-4fca-905b-473b49d92899"
      },
      "source": [
        "#Predication with training data\n",
        "predictions = (1/(1+np.exp(-np.dot(train_x, weights))))\n",
        "c=0\n",
        "for i in range(len(predictions)):\n",
        "  if (predictions[i]>=0.5 and train_y[i]==1) or (predictions[i]<0.5 and train_y[i]==0):\n",
        "    c+=1\n",
        "\n",
        "print('Accuracy of the prediction:', c/len(predictions))"
      ],
      "execution_count": 14,
      "outputs": [
        {
          "output_type": "stream",
          "name": "stdout",
          "text": [
            "Accuracy of the prediction: 0.7312703583061889\n"
          ]
        }
      ]
    },
    {
      "cell_type": "code",
      "metadata": {
        "colab": {
          "base_uri": "https://localhost:8080/"
        },
        "id": "LoOPjt4XTIvy",
        "outputId": "31689587-3649-4b98-a739-2b608a5196e4"
      },
      "source": [
        "#Data validation\n",
        "predictions = (1/(1+np.exp(-np.dot(validation_x, weights))))\n",
        "c=0\n",
        "for i in range(len(predictions)):\n",
        "  if (predictions[i]>=0.5 and train_y[i]==1) or (predictions[i]<0.5 and train_y[i]==0):\n",
        "    c+=1\n",
        "\n",
        "print('Accuracy of the prediction:', c/len(predictions))"
      ],
      "execution_count": 15,
      "outputs": [
        {
          "output_type": "stream",
          "name": "stdout",
          "text": [
            "Accuracy of the prediction: 0.5208333333333334\n"
          ]
        }
      ]
    },
    {
      "cell_type": "markdown",
      "metadata": {
        "id": "_BCtU5k8TIOE"
      },
      "source": [
        ""
      ]
    },
    {
      "cell_type": "code",
      "metadata": {
        "colab": {
          "base_uri": "https://localhost:8080/"
        },
        "id": "2pRfFw8PVILH",
        "outputId": "a2ba8ef8-6790-4a88-babf-69069f87e985"
      },
      "source": [
        "#Prediction with test data\n",
        "predictions = (1/(1+np.exp(-np.dot(test_x, weights))))\n",
        "c=0\n",
        "for i in range(len(predictions)):\n",
        "  if (predictions[i]>=0.5 and test_y[i]==1) or (predictions[i]<0.5 and test_y[i]==0):\n",
        "    c+=1\n",
        "\n",
        "print('Accuracy of the prediction:', c/len(predictions))"
      ],
      "execution_count": 16,
      "outputs": [
        {
          "output_type": "stream",
          "name": "stdout",
          "text": [
            "Accuracy of the prediction: 0.75\n"
          ]
        }
      ]
    },
    {
      "cell_type": "markdown",
      "metadata": {
        "id": "g3VeH4yfl27N"
      },
      "source": [
        "# Neural Networks\n"
      ]
    },
    {
      "cell_type": "code",
      "metadata": {
        "colab": {
          "base_uri": "https://localhost:8080/"
        },
        "id": "RrGAStJXlzfl",
        "outputId": "90507c0f-a069-458d-e0e0-028f512bb5b2"
      },
      "source": [
        "from sklearn.metrics import classification_report, accuracy_score\n",
        "from sklearn.preprocessing import Normalizer\n",
        "from tensorflow.keras.layers import Dense, Dropout\n",
        "from tensorflow.keras.models import Sequential\n",
        "from tensorflow.keras.utils import to_categorical\n",
        "from tensorflow.keras.datasets import mnist\n",
        "from tensorflow.keras.optimizers import SGD, Adam\n",
        "\n",
        "\n",
        "# This network has two hidden layers.\n",
        "\n",
        "model = Sequential()\n",
        "\n",
        "# L2 Regularisation\n",
        "\n",
        "model.add(Dense(60, activation='relu', input_dim=8, kernel_regularizer='l2'))  # Hidden layer.\n",
        "model.add(Dense(80, activation='relu')) # Hidden layer.\n",
        "model.add(Dense(2, activation='softmax'))  # Output layer.\n",
        "\n",
        "\n",
        "# L1 Regularisation. This will be commented from here and on, 'uncomment' as and when you need it.\n",
        "\n",
        "# model.add(Dense(60, activation='relu', input_dim=8, kernel_regularizer='l1'))  # Hidden layer that uses L2 regularisation.\n",
        "# model.add(Dense(80, activation='relu')) # Hidden layer.\n",
        "# model.add(Dense(2, activation='softmax'))  # Output layer.\n",
        "\n",
        "# Dropout regularisation. This will be commented from here and on, 'uncomment' as and when you need it.\n",
        "\n",
        "# model.add(Dense(200, activation='relu', input_dim=8, kernel_regularizer='l2'))  # Hidden layer.\n",
        "# model.add(Dropout(0.5))\n",
        "# model.add(Dense(250, activation='relu')) # Hidden layer.\n",
        "# model.add(Dropout(0.5))\n",
        "# model.add(Dense(2, activation='softmax'))  # Output layer.\n",
        "\n",
        "\n",
        "\n",
        "model.compile(optimizer=SGD(), loss='categorical_crossentropy', metrics=['accuracy'])\n",
        "print(model.summary())\n",
        "\n",
        "# Training the model.\n",
        "history = model.fit(train_x, to_categorical(train_y),validation_data=(validation_x, to_categorical(validation_y)), epochs=80, batch_size=64)\n",
        "\n",
        "\n",
        "# Evaluating the model\n",
        "loss, accuracy = model.evaluate(validation_x, to_categorical(validation_y))\n",
        "print('\\n\\n Loss', loss, 'Accuracy:', accuracy)"
      ],
      "execution_count": 17,
      "outputs": [
        {
          "output_type": "stream",
          "name": "stdout",
          "text": [
            "Model: \"sequential\"\n",
            "_________________________________________________________________\n",
            " Layer (type)                Output Shape              Param #   \n",
            "=================================================================\n",
            " dense (Dense)               (None, 60)                540       \n",
            "                                                                 \n",
            " dense_1 (Dense)             (None, 80)                4880      \n",
            "                                                                 \n",
            " dense_2 (Dense)             (None, 2)                 162       \n",
            "                                                                 \n",
            "=================================================================\n",
            "Total params: 5,582\n",
            "Trainable params: 5,582\n",
            "Non-trainable params: 0\n",
            "_________________________________________________________________\n",
            "None\n",
            "Epoch 1/80\n",
            "10/10 [==============================] - 2s 45ms/step - loss: 0.8472 - accuracy: 0.6254 - val_loss: 0.8259 - val_accuracy: 0.6406\n",
            "Epoch 2/80\n",
            "10/10 [==============================] - 0s 12ms/step - loss: 0.8304 - accuracy: 0.6401 - val_loss: 0.8118 - val_accuracy: 0.6528\n",
            "Epoch 3/80\n",
            "10/10 [==============================] - 0s 8ms/step - loss: 0.8155 - accuracy: 0.6466 - val_loss: 0.7994 - val_accuracy: 0.6562\n",
            "Epoch 4/80\n",
            "10/10 [==============================] - 0s 8ms/step - loss: 0.8022 - accuracy: 0.6498 - val_loss: 0.7880 - val_accuracy: 0.6562\n",
            "Epoch 5/80\n",
            "10/10 [==============================] - 0s 7ms/step - loss: 0.7900 - accuracy: 0.6531 - val_loss: 0.7777 - val_accuracy: 0.6615\n",
            "Epoch 6/80\n",
            "10/10 [==============================] - 0s 9ms/step - loss: 0.7790 - accuracy: 0.6547 - val_loss: 0.7685 - val_accuracy: 0.6597\n",
            "Epoch 7/80\n",
            "10/10 [==============================] - 0s 7ms/step - loss: 0.7687 - accuracy: 0.6629 - val_loss: 0.7598 - val_accuracy: 0.6649\n",
            "Epoch 8/80\n",
            "10/10 [==============================] - 0s 9ms/step - loss: 0.7591 - accuracy: 0.6694 - val_loss: 0.7518 - val_accuracy: 0.6719\n",
            "Epoch 9/80\n",
            "10/10 [==============================] - 0s 9ms/step - loss: 0.7504 - accuracy: 0.6694 - val_loss: 0.7446 - val_accuracy: 0.6823\n",
            "Epoch 10/80\n",
            "10/10 [==============================] - 0s 9ms/step - loss: 0.7422 - accuracy: 0.6824 - val_loss: 0.7377 - val_accuracy: 0.6858\n",
            "Epoch 11/80\n",
            "10/10 [==============================] - 0s 13ms/step - loss: 0.7346 - accuracy: 0.6889 - val_loss: 0.7312 - val_accuracy: 0.6910\n",
            "Epoch 12/80\n",
            "10/10 [==============================] - 0s 9ms/step - loss: 0.7273 - accuracy: 0.6954 - val_loss: 0.7251 - val_accuracy: 0.6944\n",
            "Epoch 13/80\n",
            "10/10 [==============================] - 0s 13ms/step - loss: 0.7204 - accuracy: 0.7068 - val_loss: 0.7193 - val_accuracy: 0.6979\n",
            "Epoch 14/80\n",
            "10/10 [==============================] - 0s 12ms/step - loss: 0.7143 - accuracy: 0.7101 - val_loss: 0.7139 - val_accuracy: 0.7014\n",
            "Epoch 15/80\n",
            "10/10 [==============================] - 0s 8ms/step - loss: 0.7081 - accuracy: 0.7101 - val_loss: 0.7089 - val_accuracy: 0.7049\n",
            "Epoch 16/80\n",
            "10/10 [==============================] - 0s 8ms/step - loss: 0.7023 - accuracy: 0.7134 - val_loss: 0.7040 - val_accuracy: 0.7153\n",
            "Epoch 17/80\n",
            "10/10 [==============================] - 0s 9ms/step - loss: 0.6967 - accuracy: 0.7182 - val_loss: 0.6993 - val_accuracy: 0.7170\n",
            "Epoch 18/80\n",
            "10/10 [==============================] - 0s 12ms/step - loss: 0.6913 - accuracy: 0.7166 - val_loss: 0.6950 - val_accuracy: 0.7222\n",
            "Epoch 19/80\n",
            "10/10 [==============================] - 0s 9ms/step - loss: 0.6864 - accuracy: 0.7264 - val_loss: 0.6909 - val_accuracy: 0.7205\n",
            "Epoch 20/80\n",
            "10/10 [==============================] - 0s 9ms/step - loss: 0.6813 - accuracy: 0.7313 - val_loss: 0.6867 - val_accuracy: 0.7205\n",
            "Epoch 21/80\n",
            "10/10 [==============================] - 0s 10ms/step - loss: 0.6766 - accuracy: 0.7345 - val_loss: 0.6829 - val_accuracy: 0.7257\n",
            "Epoch 22/80\n",
            "10/10 [==============================] - 0s 14ms/step - loss: 0.6720 - accuracy: 0.7394 - val_loss: 0.6792 - val_accuracy: 0.7274\n",
            "Epoch 23/80\n",
            "10/10 [==============================] - 0s 9ms/step - loss: 0.6680 - accuracy: 0.7378 - val_loss: 0.6757 - val_accuracy: 0.7292\n",
            "Epoch 24/80\n",
            "10/10 [==============================] - 0s 13ms/step - loss: 0.6639 - accuracy: 0.7378 - val_loss: 0.6723 - val_accuracy: 0.7309\n",
            "Epoch 25/80\n",
            "10/10 [==============================] - 0s 13ms/step - loss: 0.6597 - accuracy: 0.7443 - val_loss: 0.6691 - val_accuracy: 0.7344\n",
            "Epoch 26/80\n",
            "10/10 [==============================] - 0s 14ms/step - loss: 0.6559 - accuracy: 0.7459 - val_loss: 0.6661 - val_accuracy: 0.7344\n",
            "Epoch 27/80\n",
            "10/10 [==============================] - 0s 10ms/step - loss: 0.6521 - accuracy: 0.7443 - val_loss: 0.6631 - val_accuracy: 0.7378\n",
            "Epoch 28/80\n",
            "10/10 [==============================] - 0s 10ms/step - loss: 0.6490 - accuracy: 0.7476 - val_loss: 0.6603 - val_accuracy: 0.7431\n",
            "Epoch 29/80\n",
            "10/10 [==============================] - 0s 13ms/step - loss: 0.6453 - accuracy: 0.7541 - val_loss: 0.6576 - val_accuracy: 0.7483\n",
            "Epoch 30/80\n",
            "10/10 [==============================] - 0s 9ms/step - loss: 0.6421 - accuracy: 0.7590 - val_loss: 0.6550 - val_accuracy: 0.7535\n",
            "Epoch 31/80\n",
            "10/10 [==============================] - 0s 14ms/step - loss: 0.6389 - accuracy: 0.7590 - val_loss: 0.6525 - val_accuracy: 0.7569\n",
            "Epoch 32/80\n",
            "10/10 [==============================] - 0s 8ms/step - loss: 0.6360 - accuracy: 0.7590 - val_loss: 0.6500 - val_accuracy: 0.7604\n",
            "Epoch 33/80\n",
            "10/10 [==============================] - 0s 9ms/step - loss: 0.6329 - accuracy: 0.7638 - val_loss: 0.6478 - val_accuracy: 0.7656\n",
            "Epoch 34/80\n",
            "10/10 [==============================] - 0s 14ms/step - loss: 0.6303 - accuracy: 0.7671 - val_loss: 0.6456 - val_accuracy: 0.7639\n",
            "Epoch 35/80\n",
            "10/10 [==============================] - 0s 9ms/step - loss: 0.6277 - accuracy: 0.7671 - val_loss: 0.6435 - val_accuracy: 0.7639\n",
            "Epoch 36/80\n",
            "10/10 [==============================] - 0s 7ms/step - loss: 0.6251 - accuracy: 0.7655 - val_loss: 0.6414 - val_accuracy: 0.7656\n",
            "Epoch 37/80\n",
            "10/10 [==============================] - 0s 8ms/step - loss: 0.6225 - accuracy: 0.7655 - val_loss: 0.6395 - val_accuracy: 0.7639\n",
            "Epoch 38/80\n",
            "10/10 [==============================] - 0s 9ms/step - loss: 0.6202 - accuracy: 0.7704 - val_loss: 0.6376 - val_accuracy: 0.7622\n",
            "Epoch 39/80\n",
            "10/10 [==============================] - 0s 9ms/step - loss: 0.6179 - accuracy: 0.7704 - val_loss: 0.6358 - val_accuracy: 0.7674\n",
            "Epoch 40/80\n",
            "10/10 [==============================] - 0s 8ms/step - loss: 0.6157 - accuracy: 0.7736 - val_loss: 0.6341 - val_accuracy: 0.7656\n",
            "Epoch 41/80\n",
            "10/10 [==============================] - 0s 9ms/step - loss: 0.6135 - accuracy: 0.7752 - val_loss: 0.6324 - val_accuracy: 0.7639\n",
            "Epoch 42/80\n",
            "10/10 [==============================] - 0s 7ms/step - loss: 0.6114 - accuracy: 0.7736 - val_loss: 0.6308 - val_accuracy: 0.7656\n",
            "Epoch 43/80\n",
            "10/10 [==============================] - 0s 7ms/step - loss: 0.6095 - accuracy: 0.7752 - val_loss: 0.6293 - val_accuracy: 0.7691\n",
            "Epoch 44/80\n",
            "10/10 [==============================] - 0s 13ms/step - loss: 0.6077 - accuracy: 0.7769 - val_loss: 0.6279 - val_accuracy: 0.7691\n",
            "Epoch 45/80\n",
            "10/10 [==============================] - 0s 13ms/step - loss: 0.6058 - accuracy: 0.7769 - val_loss: 0.6265 - val_accuracy: 0.7656\n",
            "Epoch 46/80\n",
            "10/10 [==============================] - 0s 8ms/step - loss: 0.6041 - accuracy: 0.7769 - val_loss: 0.6252 - val_accuracy: 0.7674\n",
            "Epoch 47/80\n",
            "10/10 [==============================] - 0s 8ms/step - loss: 0.6024 - accuracy: 0.7801 - val_loss: 0.6239 - val_accuracy: 0.7622\n",
            "Epoch 48/80\n",
            "10/10 [==============================] - 0s 8ms/step - loss: 0.6008 - accuracy: 0.7785 - val_loss: 0.6226 - val_accuracy: 0.7639\n",
            "Epoch 49/80\n",
            "10/10 [==============================] - 0s 12ms/step - loss: 0.5994 - accuracy: 0.7752 - val_loss: 0.6213 - val_accuracy: 0.7622\n",
            "Epoch 50/80\n",
            "10/10 [==============================] - 0s 13ms/step - loss: 0.5977 - accuracy: 0.7752 - val_loss: 0.6202 - val_accuracy: 0.7639\n",
            "Epoch 51/80\n",
            "10/10 [==============================] - 0s 13ms/step - loss: 0.5963 - accuracy: 0.7752 - val_loss: 0.6190 - val_accuracy: 0.7639\n",
            "Epoch 52/80\n",
            "10/10 [==============================] - 0s 8ms/step - loss: 0.5948 - accuracy: 0.7736 - val_loss: 0.6179 - val_accuracy: 0.7656\n",
            "Epoch 53/80\n",
            "10/10 [==============================] - 0s 8ms/step - loss: 0.5934 - accuracy: 0.7785 - val_loss: 0.6167 - val_accuracy: 0.7622\n",
            "Epoch 54/80\n",
            "10/10 [==============================] - 0s 8ms/step - loss: 0.5919 - accuracy: 0.7769 - val_loss: 0.6156 - val_accuracy: 0.7622\n",
            "Epoch 55/80\n",
            "10/10 [==============================] - 0s 8ms/step - loss: 0.5909 - accuracy: 0.7769 - val_loss: 0.6146 - val_accuracy: 0.7656\n",
            "Epoch 56/80\n",
            "10/10 [==============================] - 0s 10ms/step - loss: 0.5892 - accuracy: 0.7785 - val_loss: 0.6136 - val_accuracy: 0.7674\n",
            "Epoch 57/80\n",
            "10/10 [==============================] - 0s 8ms/step - loss: 0.5880 - accuracy: 0.7769 - val_loss: 0.6127 - val_accuracy: 0.7691\n",
            "Epoch 58/80\n",
            "10/10 [==============================] - 0s 8ms/step - loss: 0.5868 - accuracy: 0.7769 - val_loss: 0.6117 - val_accuracy: 0.7691\n",
            "Epoch 59/80\n",
            "10/10 [==============================] - 0s 13ms/step - loss: 0.5856 - accuracy: 0.7785 - val_loss: 0.6107 - val_accuracy: 0.7691\n",
            "Epoch 60/80\n",
            "10/10 [==============================] - 0s 8ms/step - loss: 0.5844 - accuracy: 0.7785 - val_loss: 0.6097 - val_accuracy: 0.7691\n",
            "Epoch 61/80\n",
            "10/10 [==============================] - 0s 8ms/step - loss: 0.5834 - accuracy: 0.7818 - val_loss: 0.6088 - val_accuracy: 0.7691\n",
            "Epoch 62/80\n",
            "10/10 [==============================] - 0s 8ms/step - loss: 0.5820 - accuracy: 0.7785 - val_loss: 0.6079 - val_accuracy: 0.7691\n",
            "Epoch 63/80\n",
            "10/10 [==============================] - 0s 8ms/step - loss: 0.5810 - accuracy: 0.7785 - val_loss: 0.6070 - val_accuracy: 0.7708\n",
            "Epoch 64/80\n",
            "10/10 [==============================] - 0s 8ms/step - loss: 0.5800 - accuracy: 0.7785 - val_loss: 0.6061 - val_accuracy: 0.7708\n",
            "Epoch 65/80\n",
            "10/10 [==============================] - 0s 13ms/step - loss: 0.5789 - accuracy: 0.7801 - val_loss: 0.6052 - val_accuracy: 0.7708\n",
            "Epoch 66/80\n",
            "10/10 [==============================] - 0s 8ms/step - loss: 0.5778 - accuracy: 0.7818 - val_loss: 0.6044 - val_accuracy: 0.7708\n",
            "Epoch 67/80\n",
            "10/10 [==============================] - 0s 8ms/step - loss: 0.5769 - accuracy: 0.7801 - val_loss: 0.6036 - val_accuracy: 0.7708\n",
            "Epoch 68/80\n",
            "10/10 [==============================] - 0s 8ms/step - loss: 0.5756 - accuracy: 0.7801 - val_loss: 0.6028 - val_accuracy: 0.7708\n",
            "Epoch 69/80\n",
            "10/10 [==============================] - 0s 8ms/step - loss: 0.5747 - accuracy: 0.7818 - val_loss: 0.6021 - val_accuracy: 0.7708\n",
            "Epoch 70/80\n",
            "10/10 [==============================] - 0s 8ms/step - loss: 0.5738 - accuracy: 0.7801 - val_loss: 0.6013 - val_accuracy: 0.7691\n",
            "Epoch 71/80\n",
            "10/10 [==============================] - 0s 8ms/step - loss: 0.5727 - accuracy: 0.7818 - val_loss: 0.6006 - val_accuracy: 0.7691\n",
            "Epoch 72/80\n",
            "10/10 [==============================] - 0s 8ms/step - loss: 0.5720 - accuracy: 0.7801 - val_loss: 0.5998 - val_accuracy: 0.7708\n",
            "Epoch 73/80\n",
            "10/10 [==============================] - 0s 8ms/step - loss: 0.5710 - accuracy: 0.7818 - val_loss: 0.5991 - val_accuracy: 0.7708\n",
            "Epoch 74/80\n",
            "10/10 [==============================] - 0s 8ms/step - loss: 0.5701 - accuracy: 0.7818 - val_loss: 0.5984 - val_accuracy: 0.7708\n",
            "Epoch 75/80\n",
            "10/10 [==============================] - 0s 8ms/step - loss: 0.5694 - accuracy: 0.7834 - val_loss: 0.5976 - val_accuracy: 0.7691\n",
            "Epoch 76/80\n",
            "10/10 [==============================] - 0s 8ms/step - loss: 0.5684 - accuracy: 0.7801 - val_loss: 0.5969 - val_accuracy: 0.7691\n",
            "Epoch 77/80\n",
            "10/10 [==============================] - 0s 9ms/step - loss: 0.5676 - accuracy: 0.7785 - val_loss: 0.5962 - val_accuracy: 0.7691\n",
            "Epoch 78/80\n",
            "10/10 [==============================] - 0s 8ms/step - loss: 0.5667 - accuracy: 0.7801 - val_loss: 0.5955 - val_accuracy: 0.7691\n",
            "Epoch 79/80\n",
            "10/10 [==============================] - 0s 8ms/step - loss: 0.5658 - accuracy: 0.7785 - val_loss: 0.5948 - val_accuracy: 0.7691\n",
            "Epoch 80/80\n",
            "10/10 [==============================] - 0s 9ms/step - loss: 0.5650 - accuracy: 0.7801 - val_loss: 0.5942 - val_accuracy: 0.7691\n",
            "18/18 [==============================] - 0s 4ms/step - loss: 0.5942 - accuracy: 0.7691\n",
            "\n",
            "\n",
            " Loss 0.5941715240478516 Accuracy: 0.7690972089767456\n"
          ]
        }
      ]
    },
    {
      "cell_type": "code",
      "metadata": {
        "colab": {
          "base_uri": "https://localhost:8080/",
          "height": 1000
        },
        "id": "NFbiG20OmlrZ",
        "outputId": "e888275f-5415-48e3-8f67-b9991715b7cb"
      },
      "source": [
        "# Plot the accuracy and loss.\n",
        "\n",
        "# Accuracy\n",
        "plt.figure(figsize=(15, 10))\n",
        "plt.plot(history.history['accuracy'])\n",
        "plt.plot(history.history['val_accuracy'])\n",
        "plt.title('1 Hidden Layer: Training and Testing Error')\n",
        "plt.ylabel('Error')\n",
        "plt.xlabel('Epoch')\n",
        "plt.legend(['Training Accuracy', 'Testing Accuracy'], loc='upper right')\n",
        "plt.show()\n",
        "\n",
        "# Loss\n",
        "plt.figure(figsize=(15, 10))\n",
        "plt.plot(history.history['loss'])\n",
        "plt.plot(history.history['val_loss'])\n",
        "plt.title('1 Hidden Layer: Training and Testing Loss')\n",
        "plt.ylabel('Loss')\n",
        "plt.xlabel('Epoch')\n",
        "plt.legend(['Training Loss', 'Testing Loss'], loc='upper right')\n",
        "plt.show()"
      ],
      "execution_count": 18,
      "outputs": [
        {
          "output_type": "display_data",
          "data": {
            "image/png": "[encoded data removed]",
            "text/plain": [
              "<Figure size 1080x720 with 1 Axes>"
            ]
          },
          "metadata": {
            "needs_background": "light"
          }
        },
        {
          "output_type": "display_data",
          "data": {
            "image/png": "[encoded data removed]",
            "text/plain": [
              "<Figure size 1080x720 with 1 Axes>"
            ]
          },
          "metadata": {
            "needs_background": "light"
          }
        }
      ]
    }
  ]
}